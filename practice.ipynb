{
 "cells": [
  {
   "cell_type": "markdown",
   "metadata": {},
   "source": [
    "### importing liabrary"
   ]
  },
  {
   "cell_type": "markdown",
   "metadata": {},
   "source": [
    "Date Class"
   ]
  },
  {
   "cell_type": "code",
   "execution_count": 2,
   "metadata": {},
   "outputs": [],
   "source": [
    "import QuantLib as ql\n",
    "import pandas as pd"
   ]
  },
  {
   "cell_type": "code",
   "execution_count": 3,
   "metadata": {},
   "outputs": [
    {
     "name": "stdout",
     "output_type": "stream",
     "text": [
      "January 15th, 2024\n",
      "15-1-2024\n"
     ]
    }
   ],
   "source": [
    "date = ql.Date(15, 1, 2024)\n",
    "print(date)\n",
    "print(\"%d-%d-%d\" %(date.dayOfMonth(),date.month(),\n",
    "date.year()))"
   ]
  },
  {
   "cell_type": "code",
   "execution_count": 4,
   "metadata": {},
   "outputs": [
    {
     "name": "stdout",
     "output_type": "stream",
     "text": [
      "2024-1-15\n"
     ]
    }
   ],
   "source": [
    "print(\"%d-%d-%d\" %(date.year(),date.month(),date.dayOfMonth()))"
   ]
  },
  {
   "cell_type": "code",
   "execution_count": 5,
   "metadata": {},
   "outputs": [
    {
     "data": {
      "text/plain": [
       "True"
      ]
     },
     "execution_count": 5,
     "metadata": {},
     "output_type": "execute_result"
    }
   ],
   "source": [
    "date.weekday() == ql.Monday"
   ]
  },
  {
   "cell_type": "code",
   "execution_count": 6,
   "metadata": {},
   "outputs": [
    {
     "data": {
      "text/plain": [
       "QuantLib.QuantLib.Date"
      ]
     },
     "execution_count": 6,
     "metadata": {},
     "output_type": "execute_result"
    }
   ],
   "source": [
    "type(date)"
   ]
  },
  {
   "cell_type": "code",
   "execution_count": 7,
   "metadata": {},
   "outputs": [
    {
     "name": "stdout",
     "output_type": "stream",
     "text": [
      "Subtract a day : January 14th, 2024\n",
      "Add a month: February 15th, 2024\n"
     ]
    }
   ],
   "source": [
    "print(\"Subtract a day : {0}\".format(date - 1))\n",
    "print(\"Add a month: {0}\".format(date + ql.Period(1, ql.Months)))"
   ]
  },
  {
   "cell_type": "markdown",
   "metadata": {},
   "source": [
    "Calendar "
   ]
  },
  {
   "cell_type": "code",
   "execution_count": 8,
   "metadata": {},
   "outputs": [
    {
     "name": "stdout",
     "output_type": "stream",
     "text": [
      "Add 60 days: May 30th, 2015\n",
      "Add 60 business days in US: June 24th, 2015\n",
      "Add 60 business days in Italy: June 26th, 2015\n"
     ]
    }
   ],
   "source": [
    "date = ql.Date(31, 3, 2015)\n",
    "us_calendar = ql.UnitedStates(ql.UnitedStates.GovernmentBond)\n",
    "italy_calendar = ql.Italy()\n",
    "period = ql.Period(60, ql.Days)\n",
    "raw_date = date + period\n",
    "us_date = us_calendar.advance(date, period)\n",
    "italy_date = italy_calendar.advance(date, period)\n",
    "print(\"Add 60 days: {0}\".format(raw_date))\n",
    "print(\"Add 60 business days in US: {0}\".format(us_date))\n",
    "print(\"Add 60 business days in Italy: {0}\".format(italy_date))"
   ]
  },
  {
   "cell_type": "markdown",
   "metadata": {},
   "source": [
    "blending calendar for getting all holidays"
   ]
  },
  {
   "cell_type": "code",
   "execution_count": 9,
   "metadata": {},
   "outputs": [
    {
     "name": "stdout",
     "output_type": "stream",
     "text": [
      "Add 60 business days in US-Italy: June 29th, 2015\n",
      "Business days US-Italy: 60\n"
     ]
    }
   ],
   "source": [
    "joint_calendar = ql.JointCalendar(us_calendar, italy_calendar)\n",
    "joint_date = joint_calendar.advance(date, period)\n",
    "joint_busdays = joint_calendar.businessDaysBetween(date, joint_date)\n",
    "print(\"Add 60 business days in US-Italy: {0}\".format(joint_date))\n",
    "print(\"Business days US-Italy: {0}\".format(joint_busdays))"
   ]
  },
  {
   "cell_type": "markdown",
   "metadata": {},
   "source": [
    "Schedule"
   ]
  },
  {
   "cell_type": "code",
   "execution_count": 10,
   "metadata": {},
   "outputs": [
    {
     "data": {
      "text/html": [
       "<div>\n",
       "<style scoped>\n",
       "    .dataframe tbody tr th:only-of-type {\n",
       "        vertical-align: middle;\n",
       "    }\n",
       "\n",
       "    .dataframe tbody tr th {\n",
       "        vertical-align: top;\n",
       "    }\n",
       "\n",
       "    .dataframe thead th {\n",
       "        text-align: right;\n",
       "    }\n",
       "</style>\n",
       "<table border=\"1\" class=\"dataframe\">\n",
       "  <thead>\n",
       "    <tr style=\"text-align: right;\">\n",
       "      <th></th>\n",
       "      <th>date</th>\n",
       "    </tr>\n",
       "  </thead>\n",
       "  <tbody>\n",
       "    <tr>\n",
       "      <th>0</th>\n",
       "      <td>January 2nd, 2015</td>\n",
       "    </tr>\n",
       "    <tr>\n",
       "      <th>1</th>\n",
       "      <td>February 2nd, 2015</td>\n",
       "    </tr>\n",
       "    <tr>\n",
       "      <th>2</th>\n",
       "      <td>March 2nd, 2015</td>\n",
       "    </tr>\n",
       "    <tr>\n",
       "      <th>3</th>\n",
       "      <td>April 1st, 2015</td>\n",
       "    </tr>\n",
       "    <tr>\n",
       "      <th>4</th>\n",
       "      <td>May 1st, 2015</td>\n",
       "    </tr>\n",
       "    <tr>\n",
       "      <th>5</th>\n",
       "      <td>June 1st, 2015</td>\n",
       "    </tr>\n",
       "    <tr>\n",
       "      <th>6</th>\n",
       "      <td>July 1st, 2015</td>\n",
       "    </tr>\n",
       "    <tr>\n",
       "      <th>7</th>\n",
       "      <td>August 3rd, 2015</td>\n",
       "    </tr>\n",
       "    <tr>\n",
       "      <th>8</th>\n",
       "      <td>September 1st, 2015</td>\n",
       "    </tr>\n",
       "    <tr>\n",
       "      <th>9</th>\n",
       "      <td>October 1st, 2015</td>\n",
       "    </tr>\n",
       "    <tr>\n",
       "      <th>10</th>\n",
       "      <td>November 2nd, 2015</td>\n",
       "    </tr>\n",
       "    <tr>\n",
       "      <th>11</th>\n",
       "      <td>December 1st, 2015</td>\n",
       "    </tr>\n",
       "    <tr>\n",
       "      <th>12</th>\n",
       "      <td>January 4th, 2016</td>\n",
       "    </tr>\n",
       "  </tbody>\n",
       "</table>\n",
       "</div>"
      ],
      "text/plain": [
       "                   date\n",
       "0     January 2nd, 2015\n",
       "1    February 2nd, 2015\n",
       "2       March 2nd, 2015\n",
       "3       April 1st, 2015\n",
       "4         May 1st, 2015\n",
       "5        June 1st, 2015\n",
       "6        July 1st, 2015\n",
       "7      August 3rd, 2015\n",
       "8   September 1st, 2015\n",
       "9     October 1st, 2015\n",
       "10   November 2nd, 2015\n",
       "11   December 1st, 2015\n",
       "12    January 4th, 2016"
      ]
     },
     "execution_count": 10,
     "metadata": {},
     "output_type": "execute_result"
    }
   ],
   "source": [
    "effective_date = ql.Date(1, 1, 2015)\n",
    "termination_date = ql.Date(1, 1, 2016)\n",
    "tenor = ql.Period(ql.Monthly)\n",
    "calendar = ql.UnitedStates(ql.UnitedStates.GovernmentBond)\n",
    "business_convention = ql.Following\n",
    "termination_business_convention = ql.Following\n",
    "date_generation = ql.DateGeneration.Forward\n",
    "end_of_month = False\n",
    "schedule = ql.Schedule(effective_date,\n",
    "termination_date,\n",
    "tenor,\n",
    "calendar,\n",
    "business_convention,\n",
    "termination_business_convention,\n",
    "date_generation,\n",
    "end_of_month)\n",
    "pd.DataFrame({'date': list(schedule)})"
   ]
  },
  {
   "cell_type": "markdown",
   "metadata": {},
   "source": [
    "short or long stub"
   ]
  },
  {
   "cell_type": "code",
   "execution_count": 11,
   "metadata": {},
   "outputs": [
    {
     "data": {
      "text/html": [
       "<div>\n",
       "<style scoped>\n",
       "    .dataframe tbody tr th:only-of-type {\n",
       "        vertical-align: middle;\n",
       "    }\n",
       "\n",
       "    .dataframe tbody tr th {\n",
       "        vertical-align: top;\n",
       "    }\n",
       "\n",
       "    .dataframe thead th {\n",
       "        text-align: right;\n",
       "    }\n",
       "</style>\n",
       "<table border=\"1\" class=\"dataframe\">\n",
       "  <thead>\n",
       "    <tr style=\"text-align: right;\">\n",
       "      <th></th>\n",
       "      <th>date</th>\n",
       "    </tr>\n",
       "  </thead>\n",
       "  <tbody>\n",
       "    <tr>\n",
       "      <th>0</th>\n",
       "      <td>January 2nd, 2015</td>\n",
       "    </tr>\n",
       "    <tr>\n",
       "      <th>1</th>\n",
       "      <td>January 15th, 2015</td>\n",
       "    </tr>\n",
       "    <tr>\n",
       "      <th>2</th>\n",
       "      <td>February 2nd, 2015</td>\n",
       "    </tr>\n",
       "    <tr>\n",
       "      <th>3</th>\n",
       "      <td>March 2nd, 2015</td>\n",
       "    </tr>\n",
       "    <tr>\n",
       "      <th>4</th>\n",
       "      <td>April 1st, 2015</td>\n",
       "    </tr>\n",
       "    <tr>\n",
       "      <th>5</th>\n",
       "      <td>May 1st, 2015</td>\n",
       "    </tr>\n",
       "    <tr>\n",
       "      <th>6</th>\n",
       "      <td>June 1st, 2015</td>\n",
       "    </tr>\n",
       "    <tr>\n",
       "      <th>7</th>\n",
       "      <td>July 1st, 2015</td>\n",
       "    </tr>\n",
       "    <tr>\n",
       "      <th>8</th>\n",
       "      <td>August 3rd, 2015</td>\n",
       "    </tr>\n",
       "    <tr>\n",
       "      <th>9</th>\n",
       "      <td>September 1st, 2015</td>\n",
       "    </tr>\n",
       "    <tr>\n",
       "      <th>10</th>\n",
       "      <td>October 1st, 2015</td>\n",
       "    </tr>\n",
       "    <tr>\n",
       "      <th>11</th>\n",
       "      <td>November 2nd, 2015</td>\n",
       "    </tr>\n",
       "    <tr>\n",
       "      <th>12</th>\n",
       "      <td>December 1st, 2015</td>\n",
       "    </tr>\n",
       "    <tr>\n",
       "      <th>13</th>\n",
       "      <td>January 4th, 2016</td>\n",
       "    </tr>\n",
       "  </tbody>\n",
       "</table>\n",
       "</div>"
      ],
      "text/plain": [
       "                   date\n",
       "0     January 2nd, 2015\n",
       "1    January 15th, 2015\n",
       "2    February 2nd, 2015\n",
       "3       March 2nd, 2015\n",
       "4       April 1st, 2015\n",
       "5         May 1st, 2015\n",
       "6        June 1st, 2015\n",
       "7        July 1st, 2015\n",
       "8      August 3rd, 2015\n",
       "9   September 1st, 2015\n",
       "10    October 1st, 2015\n",
       "11   November 2nd, 2015\n",
       "12   December 1st, 2015\n",
       "13    January 4th, 2016"
      ]
     },
     "execution_count": 11,
     "metadata": {},
     "output_type": "execute_result"
    }
   ],
   "source": [
    "# short stub in the front\n",
    "effective_date = ql.Date(1, 1, 2015)\n",
    "termination_date = ql.Date(1, 1, 2016)\n",
    "first_date = ql.Date(15, 1, 2015) #####\n",
    "schedule = ql.Schedule(effective_date,\n",
    "termination_date,\n",
    "tenor,\n",
    "calendar,\n",
    "business_convention,\n",
    "termination_business_convention,\n",
    "ql.DateGeneration.Backward,\n",
    "end_of_month,\n",
    "first_date)\n",
    "pd.DataFrame({'date': list(schedule)})"
   ]
  },
  {
   "cell_type": "code",
   "execution_count": 12,
   "metadata": {},
   "outputs": [
    {
     "data": {
      "text/html": [
       "<div>\n",
       "<style scoped>\n",
       "    .dataframe tbody tr th:only-of-type {\n",
       "        vertical-align: middle;\n",
       "    }\n",
       "\n",
       "    .dataframe tbody tr th {\n",
       "        vertical-align: top;\n",
       "    }\n",
       "\n",
       "    .dataframe thead th {\n",
       "        text-align: right;\n",
       "    }\n",
       "</style>\n",
       "<table border=\"1\" class=\"dataframe\">\n",
       "  <thead>\n",
       "    <tr style=\"text-align: right;\">\n",
       "      <th></th>\n",
       "      <th>date</th>\n",
       "    </tr>\n",
       "  </thead>\n",
       "  <tbody>\n",
       "    <tr>\n",
       "      <th>0</th>\n",
       "      <td>January 2nd, 2015</td>\n",
       "    </tr>\n",
       "    <tr>\n",
       "      <th>1</th>\n",
       "      <td>February 2nd, 2015</td>\n",
       "    </tr>\n",
       "    <tr>\n",
       "      <th>2</th>\n",
       "      <td>March 2nd, 2015</td>\n",
       "    </tr>\n",
       "    <tr>\n",
       "      <th>3</th>\n",
       "      <td>April 1st, 2015</td>\n",
       "    </tr>\n",
       "    <tr>\n",
       "      <th>4</th>\n",
       "      <td>May 1st, 2015</td>\n",
       "    </tr>\n",
       "    <tr>\n",
       "      <th>5</th>\n",
       "      <td>June 1st, 2015</td>\n",
       "    </tr>\n",
       "    <tr>\n",
       "      <th>6</th>\n",
       "      <td>July 1st, 2015</td>\n",
       "    </tr>\n",
       "    <tr>\n",
       "      <th>7</th>\n",
       "      <td>August 3rd, 2015</td>\n",
       "    </tr>\n",
       "    <tr>\n",
       "      <th>8</th>\n",
       "      <td>September 1st, 2015</td>\n",
       "    </tr>\n",
       "    <tr>\n",
       "      <th>9</th>\n",
       "      <td>October 1st, 2015</td>\n",
       "    </tr>\n",
       "    <tr>\n",
       "      <th>10</th>\n",
       "      <td>November 2nd, 2015</td>\n",
       "    </tr>\n",
       "    <tr>\n",
       "      <th>11</th>\n",
       "      <td>December 1st, 2015</td>\n",
       "    </tr>\n",
       "    <tr>\n",
       "      <th>12</th>\n",
       "      <td>December 15th, 2015</td>\n",
       "    </tr>\n",
       "    <tr>\n",
       "      <th>13</th>\n",
       "      <td>January 4th, 2016</td>\n",
       "    </tr>\n",
       "  </tbody>\n",
       "</table>\n",
       "</div>"
      ],
      "text/plain": [
       "                   date\n",
       "0     January 2nd, 2015\n",
       "1    February 2nd, 2015\n",
       "2       March 2nd, 2015\n",
       "3       April 1st, 2015\n",
       "4         May 1st, 2015\n",
       "5        June 1st, 2015\n",
       "6        July 1st, 2015\n",
       "7      August 3rd, 2015\n",
       "8   September 1st, 2015\n",
       "9     October 1st, 2015\n",
       "10   November 2nd, 2015\n",
       "11   December 1st, 2015\n",
       "12  December 15th, 2015\n",
       "13    January 4th, 2016"
      ]
     },
     "execution_count": 12,
     "metadata": {},
     "output_type": "execute_result"
    }
   ],
   "source": [
    "# short stub at the back\n",
    "effective_date = ql.Date(1, 1, 2015)\n",
    "termination_date = ql.Date(1, 1, 2016)\n",
    "penultimate_date = ql.Date(15, 12, 2015) ###\n",
    "schedule = ql.Schedule(effective_date,\n",
    "termination_date,\n",
    "tenor,\n",
    "calendar,\n",
    "business_convention,\n",
    "termination_business_convention,\n",
    "ql.DateGeneration.Forward,\n",
    "end_of_month,\n",
    "ql.Date(),\n",
    "penultimate_date)\n",
    "pd.DataFrame({'date': list(schedule)})"
   ]
  },
  {
   "cell_type": "code",
   "execution_count": 13,
   "metadata": {},
   "outputs": [
    {
     "data": {
      "text/html": [
       "<div>\n",
       "<style scoped>\n",
       "    .dataframe tbody tr th:only-of-type {\n",
       "        vertical-align: middle;\n",
       "    }\n",
       "\n",
       "    .dataframe tbody tr th {\n",
       "        vertical-align: top;\n",
       "    }\n",
       "\n",
       "    .dataframe thead th {\n",
       "        text-align: right;\n",
       "    }\n",
       "</style>\n",
       "<table border=\"1\" class=\"dataframe\">\n",
       "  <thead>\n",
       "    <tr style=\"text-align: right;\">\n",
       "      <th></th>\n",
       "      <th>date</th>\n",
       "    </tr>\n",
       "  </thead>\n",
       "  <tbody>\n",
       "    <tr>\n",
       "      <th>0</th>\n",
       "      <td>January 2nd, 2015</td>\n",
       "    </tr>\n",
       "    <tr>\n",
       "      <th>1</th>\n",
       "      <td>February 2nd, 2015</td>\n",
       "    </tr>\n",
       "    <tr>\n",
       "      <th>2</th>\n",
       "      <td>March 2nd, 2015</td>\n",
       "    </tr>\n",
       "    <tr>\n",
       "      <th>3</th>\n",
       "      <td>April 1st, 2015</td>\n",
       "    </tr>\n",
       "    <tr>\n",
       "      <th>4</th>\n",
       "      <td>May 1st, 2015</td>\n",
       "    </tr>\n",
       "    <tr>\n",
       "      <th>5</th>\n",
       "      <td>June 1st, 2015</td>\n",
       "    </tr>\n",
       "    <tr>\n",
       "      <th>6</th>\n",
       "      <td>July 1st, 2015</td>\n",
       "    </tr>\n",
       "    <tr>\n",
       "      <th>7</th>\n",
       "      <td>August 3rd, 2015</td>\n",
       "    </tr>\n",
       "    <tr>\n",
       "      <th>8</th>\n",
       "      <td>September 1st, 2015</td>\n",
       "    </tr>\n",
       "    <tr>\n",
       "      <th>9</th>\n",
       "      <td>October 18th, 2015</td>\n",
       "    </tr>\n",
       "    <tr>\n",
       "      <th>10</th>\n",
       "      <td>November 2nd, 2015</td>\n",
       "    </tr>\n",
       "    <tr>\n",
       "      <th>11</th>\n",
       "      <td>December 1st, 2015</td>\n",
       "    </tr>\n",
       "    <tr>\n",
       "      <th>12</th>\n",
       "      <td>January 4th, 2016</td>\n",
       "    </tr>\n",
       "  </tbody>\n",
       "</table>\n",
       "</div>"
      ],
      "text/plain": [
       "                   date\n",
       "0     January 2nd, 2015\n",
       "1    February 2nd, 2015\n",
       "2       March 2nd, 2015\n",
       "3       April 1st, 2015\n",
       "4         May 1st, 2015\n",
       "5        June 1st, 2015\n",
       "6        July 1st, 2015\n",
       "7      August 3rd, 2015\n",
       "8   September 1st, 2015\n",
       "9    October 18th, 2015\n",
       "10   November 2nd, 2015\n",
       "11   December 1st, 2015\n",
       "12    January 4th, 2016"
      ]
     },
     "execution_count": 13,
     "metadata": {},
     "output_type": "execute_result"
    }
   ],
   "source": [
    "dates = [ql.Date(2,1,2015), ql.Date(2, 2,2015),\n",
    "ql.Date(2,3,2015), ql.Date(1,4,2015),\n",
    "ql.Date(1,5,2015), ql.Date(1,6,2015),\n",
    "ql.Date(1,7,2015), ql.Date(3,8,2015),\n",
    "ql.Date(1,9,2015), ql.Date(18,10,2015),\n",
    "ql.Date(2,11,2015), ql.Date(1,12,2015),\n",
    "ql.Date(4,1,2016)]\n",
    "rolling_convention = ql.Following\n",
    "schedule = ql.Schedule(dates, calendar,\n",
    "rolling_convention)\n",
    "pd.DataFrame({'date': list(schedule)})"
   ]
  },
  {
   "cell_type": "markdown",
   "metadata": {},
   "source": [
    "Interest Rate"
   ]
  },
  {
   "cell_type": "code",
   "execution_count": 14,
   "metadata": {},
   "outputs": [
    {
     "name": "stdout",
     "output_type": "stream",
     "text": [
      "5.000000 % Actual/Actual (ISDA) Annual compounding\n"
     ]
    }
   ],
   "source": [
    "annual_rate = 0.05\n",
    "day_count = ql.ActualActual(ql.ActualActual.ISDA)\n",
    "compound_type = ql.Compounded\n",
    "frequency = ql.Annual\n",
    "interest_rate = ql.InterestRate(annual_rate,\n",
    "day_count,\n",
    "compound_type,\n",
    "frequency)\n",
    "print(interest_rate)"
   ]
  },
  {
   "cell_type": "code",
   "execution_count": 15,
   "metadata": {},
   "outputs": [
    {
     "name": "stdout",
     "output_type": "stream",
     "text": [
      "1.1025\n",
      "0.9070294784580498\n"
     ]
    }
   ],
   "source": [
    "# compound_factor and discount_factor\n",
    "t = 2.0  #n\n",
    "print(interest_rate.compoundFactor(t))   # (1+r)^n\n",
    "print(interest_rate.discountFactor(t))   #1/(1+r)^n"
   ]
  },
  {
   "cell_type": "code",
   "execution_count": 16,
   "metadata": {},
   "outputs": [
    {
     "name": "stdout",
     "output_type": "stream",
     "text": [
      "4.939015 % Actual/Actual (ISDA) Semiannual compounding\n"
     ]
    }
   ],
   "source": [
    "#compounding frequency\n",
    "new_frequency = ql.Semiannual\n",
    "new_interest_rate = interest_rate.equivalentRate(compound_type, new_frequency, t)\n",
    "print(new_interest_rate)"
   ]
  },
  {
   "cell_type": "markdown",
   "metadata": {},
   "source": [
    "### Practice 2"
   ]
  },
  {
   "cell_type": "code",
   "execution_count": 17,
   "metadata": {},
   "outputs": [],
   "source": [
    "import QuantLib as ql\n",
    "from QuantLib import *\n",
    "import pandas as pd\n",
    "us_calendar = ql.UnitedStates(ql.UnitedStates.GovernmentBond)\n",
    "euro_calendar = ql.TARGET()\n",
    "joint_calendar = ql.JointCalendar(us_calendar, euro_calendar)\n"
   ]
  },
  {
   "cell_type": "code",
   "execution_count": 18,
   "metadata": {},
   "outputs": [
    {
     "data": {
      "text/html": [
       "<div>\n",
       "<style scoped>\n",
       "    .dataframe tbody tr th:only-of-type {\n",
       "        vertical-align: middle;\n",
       "    }\n",
       "\n",
       "    .dataframe tbody tr th {\n",
       "        vertical-align: top;\n",
       "    }\n",
       "\n",
       "    .dataframe thead th {\n",
       "        text-align: right;\n",
       "    }\n",
       "</style>\n",
       "<table border=\"1\" class=\"dataframe\">\n",
       "  <thead>\n",
       "    <tr style=\"text-align: right;\">\n",
       "      <th></th>\n",
       "      <th>date</th>\n",
       "    </tr>\n",
       "  </thead>\n",
       "  <tbody>\n",
       "    <tr>\n",
       "      <th>0</th>\n",
       "      <td>March 15th, 2023</td>\n",
       "    </tr>\n",
       "    <tr>\n",
       "      <th>1</th>\n",
       "      <td>September 15th, 2023</td>\n",
       "    </tr>\n",
       "    <tr>\n",
       "      <th>2</th>\n",
       "      <td>March 15th, 2024</td>\n",
       "    </tr>\n",
       "    <tr>\n",
       "      <th>3</th>\n",
       "      <td>September 16th, 2024</td>\n",
       "    </tr>\n",
       "    <tr>\n",
       "      <th>4</th>\n",
       "      <td>March 17th, 2025</td>\n",
       "    </tr>\n",
       "    <tr>\n",
       "      <th>5</th>\n",
       "      <td>September 15th, 2025</td>\n",
       "    </tr>\n",
       "    <tr>\n",
       "      <th>6</th>\n",
       "      <td>March 16th, 2026</td>\n",
       "    </tr>\n",
       "    <tr>\n",
       "      <th>7</th>\n",
       "      <td>September 15th, 2026</td>\n",
       "    </tr>\n",
       "    <tr>\n",
       "      <th>8</th>\n",
       "      <td>March 15th, 2027</td>\n",
       "    </tr>\n",
       "    <tr>\n",
       "      <th>9</th>\n",
       "      <td>September 15th, 2027</td>\n",
       "    </tr>\n",
       "    <tr>\n",
       "      <th>10</th>\n",
       "      <td>March 15th, 2028</td>\n",
       "    </tr>\n",
       "    <tr>\n",
       "      <th>11</th>\n",
       "      <td>September 15th, 2028</td>\n",
       "    </tr>\n",
       "    <tr>\n",
       "      <th>12</th>\n",
       "      <td>March 15th, 2029</td>\n",
       "    </tr>\n",
       "    <tr>\n",
       "      <th>13</th>\n",
       "      <td>September 17th, 2029</td>\n",
       "    </tr>\n",
       "    <tr>\n",
       "      <th>14</th>\n",
       "      <td>March 15th, 2030</td>\n",
       "    </tr>\n",
       "    <tr>\n",
       "      <th>15</th>\n",
       "      <td>September 16th, 2030</td>\n",
       "    </tr>\n",
       "    <tr>\n",
       "      <th>16</th>\n",
       "      <td>March 17th, 2031</td>\n",
       "    </tr>\n",
       "    <tr>\n",
       "      <th>17</th>\n",
       "      <td>September 15th, 2031</td>\n",
       "    </tr>\n",
       "    <tr>\n",
       "      <th>18</th>\n",
       "      <td>March 15th, 2032</td>\n",
       "    </tr>\n",
       "    <tr>\n",
       "      <th>19</th>\n",
       "      <td>September 15th, 2032</td>\n",
       "    </tr>\n",
       "    <tr>\n",
       "      <th>20</th>\n",
       "      <td>March 15th, 2033</td>\n",
       "    </tr>\n",
       "  </tbody>\n",
       "</table>\n",
       "</div>"
      ],
      "text/plain": [
       "                    date\n",
       "0       March 15th, 2023\n",
       "1   September 15th, 2023\n",
       "2       March 15th, 2024\n",
       "3   September 16th, 2024\n",
       "4       March 17th, 2025\n",
       "5   September 15th, 2025\n",
       "6       March 16th, 2026\n",
       "7   September 15th, 2026\n",
       "8       March 15th, 2027\n",
       "9   September 15th, 2027\n",
       "10      March 15th, 2028\n",
       "11  September 15th, 2028\n",
       "12      March 15th, 2029\n",
       "13  September 17th, 2029\n",
       "14      March 15th, 2030\n",
       "15  September 16th, 2030\n",
       "16      March 17th, 2031\n",
       "17  September 15th, 2031\n",
       "18      March 15th, 2032\n",
       "19  September 15th, 2032\n",
       "20      March 15th, 2033"
      ]
     },
     "execution_count": 18,
     "metadata": {},
     "output_type": "execute_result"
    }
   ],
   "source": [
    "effective_date = ql.Date(15, 3, 2023)\n",
    "termination_date = ql.Date(15, 3, 2033)\n",
    "tenor = ql.Period(ql.Semiannual)\n",
    "calendar = joint_calendar\n",
    "business_convention = ql.Following\n",
    "termination_business_convention = ql.Following\n",
    "date_generation = ql.DateGeneration.Forward\n",
    "end_of_month = False\n",
    "schedule = ql.Schedule(effective_date,\n",
    "termination_date,\n",
    "tenor,\n",
    "calendar,\n",
    "business_convention,\n",
    "termination_business_convention,\n",
    "date_generation,\n",
    "end_of_month)\n",
    "pd.DataFrame({'date': list(schedule)})"
   ]
  },
  {
   "cell_type": "code",
   "execution_count": 19,
   "metadata": {},
   "outputs": [
    {
     "name": "stdout",
     "output_type": "stream",
     "text": [
      "5.080000 % 30/360 (Bond Basis) Semiannual compounding\n"
     ]
    }
   ],
   "source": [
    "annual_rate_leg1 = 0.0508\n",
    "day_count = ql.Thirty360(ql.Thirty360.BondBasis)\n",
    "compound_type = ql.Compounded\n",
    "frequency = ql.Semiannual\n",
    "interest_rate_leg1 = ql.InterestRate(annual_rate_leg1,\n",
    "day_count,\n",
    "compound_type,\n",
    "frequency)\n",
    "print(interest_rate_leg1)"
   ]
  },
  {
   "cell_type": "code",
   "execution_count": 20,
   "metadata": {},
   "outputs": [
    {
     "name": "stdout",
     "output_type": "stream",
     "text": [
      "6.129000 % 30/360 (Bond Basis) Semiannual compounding\n"
     ]
    }
   ],
   "source": [
    "annual_rate_leg2 = 0.06129\n",
    "day_count = ql.Thirty360(ql.Thirty360.BondBasis)\n",
    "compound_type = ql.Compounded\n",
    "frequency = ql.Semiannual\n",
    "interest_rate_leg2 = ql.InterestRate(annual_rate_leg2,\n",
    "day_count,\n",
    "compound_type,\n",
    "frequency)\n",
    "print(interest_rate_leg2)"
   ]
  },
  {
   "cell_type": "code",
   "execution_count": 21,
   "metadata": {},
   "outputs": [
    {
     "name": "stdout",
     "output_type": "stream",
     "text": [
      "          Date      Cash Flow\n",
      "0   2023-09-15  254000.000000\n",
      "1   2024-03-15  254000.000000\n",
      "2   2024-09-16  255411.111111\n",
      "3   2025-03-17  255411.111111\n",
      "4   2025-09-15  251177.777778\n",
      "5   2026-03-16  255411.111111\n",
      "6   2026-09-15  252588.888889\n",
      "7   2027-03-15  254000.000000\n",
      "8   2027-09-15  254000.000000\n",
      "9   2028-03-15  254000.000000\n",
      "10  2028-09-15  254000.000000\n",
      "11  2029-03-15  254000.000000\n",
      "12  2029-09-17  256822.222222\n",
      "13  2030-03-15  251177.777778\n",
      "14  2030-09-16  255411.111111\n",
      "15  2031-03-17  255411.111111\n",
      "16  2031-09-15  251177.777778\n",
      "17  2032-03-15  254000.000000\n",
      "18  2032-09-15  254000.000000\n",
      "19  2033-03-15  254000.000000\n"
     ]
    }
   ],
   "source": [
    "notional=10000000\n",
    "day_count = ql.Thirty360(ql.Thirty360.BondBasis)\n",
    "eur_leg = ql.FixedRateLeg(schedule, day_count, [notional], [interest_rate_leg1.rate()])\n",
    "\n",
    "# Calculate Cash Flows\n",
    "cash_flows = [cf.amount() for cf in eur_leg]\n",
    "\n",
    "# Display Cash Flows\n",
    "cash_flow_dates = [cf.date().ISO() for cf in eur_leg]\n",
    "cash_flow_data = {'Date': cash_flow_dates, 'Cash Flow': cash_flows}\n",
    "cash_flow_df_leg1 = pd.DataFrame(cash_flow_data)\n",
    "print(cash_flow_df_leg1)\n"
   ]
  },
  {
   "cell_type": "code",
   "execution_count": 22,
   "metadata": {},
   "outputs": [
    {
     "name": "stdout",
     "output_type": "stream",
     "text": [
      "          Date    Cash Flow\n",
      "0   2023-09-15  323795.0700\n",
      "1   2024-03-15  323795.0700\n",
      "2   2024-09-16  325593.9315\n",
      "3   2025-03-17  325593.9315\n",
      "4   2025-09-15  320197.3470\n",
      "5   2026-03-16  325593.9315\n",
      "6   2026-09-15  321996.2085\n",
      "7   2027-03-15  323795.0700\n",
      "8   2027-09-15  323795.0700\n",
      "9   2028-03-15  323795.0700\n",
      "10  2028-09-15  323795.0700\n",
      "11  2029-03-15  323795.0700\n",
      "12  2029-09-17  327392.7930\n",
      "13  2030-03-15  320197.3470\n",
      "14  2030-09-16  325593.9315\n",
      "15  2031-03-17  325593.9315\n",
      "16  2031-09-15  320197.3470\n",
      "17  2032-03-15  323795.0700\n",
      "18  2032-09-15  323795.0700\n",
      "19  2033-03-15  323795.0700\n"
     ]
    }
   ],
   "source": [
    "notional=10566000\n",
    "day_count = ql.Thirty360(ql.Thirty360.BondBasis)\n",
    "US_leg = ql.FixedRateLeg(schedule, day_count, [notional], [interest_rate_leg2.rate()])\n",
    "\n",
    "# Calculate Cash Flows\n",
    "cash_flows = [cf.amount() for cf in US_leg]\n",
    "\n",
    "# Display Cash Flows\n",
    "cash_flow_dates = [cf.date().ISO() for cf in US_leg]\n",
    "cash_flow_data = {'Date': cash_flow_dates, 'Cash Flow': cash_flows}\n",
    "cash_flow_df_leg2 = pd.DataFrame(cash_flow_data)\n",
    "print(cash_flow_df_leg2)\n"
   ]
  },
  {
   "cell_type": "code",
   "execution_count": 23,
   "metadata": {},
   "outputs": [
    {
     "data": {
      "image/png": "[encoded data removed]",
      "text/plain": [
       "<Figure size 1000x600 with 1 Axes>"
      ]
     },
     "metadata": {},
     "output_type": "display_data"
    }
   ],
   "source": [
    "import matplotlib.pyplot as plt\n",
    "# Merge the two dataframes on the 'Date' column\n",
    "merged_df = pd.merge(cash_flow_df_leg1, cash_flow_df_leg2, on='Date', suffixes=('_df1', '_df2'))\n",
    "\n",
    "# Convert the 'Date' column to datetime\n",
    "merged_df['Date'] = pd.to_datetime(merged_df['Date'])\n",
    "\n",
    "# Plotting\n",
    "plt.figure(figsize=(10, 6))\n",
    "plt.plot(merged_df['Date'], merged_df['Cash Flow_df1'].values, label='EUR_leg1')\n",
    "plt.plot(merged_df['Date'], merged_df['Cash Flow_df2'], label='US_leg2')\n",
    "plt.xlabel('Date')\n",
    "plt.ylabel('Cash Flow')\n",
    "plt.title('Cash Flow Comparison')\n",
    "plt.legend()\n",
    "plt.show()"
   ]
  },
  {
   "cell_type": "code",
   "execution_count": 24,
   "metadata": {},
   "outputs": [
    {
     "name": "stdout",
     "output_type": "stream",
     "text": [
      "Net Present Value of leg1: 39750.43591853468\n",
      "Net Present Value of leg2: 50673.20937311977\n"
     ]
    }
   ],
   "source": [
    "# Calculate NPV\n",
    "\n",
    "discount_curve = ql.YieldTermStructureHandle(ql.FlatForward(effective_date, ql.QuoteHandle(ql.SimpleQuote(4.0)), day_count))\n",
    "net_present_value_leg1 = ql.CashFlows.npv(eur_leg, discount_curve, True, effective_date)\n",
    "net_present_value_leg2 = ql.CashFlows.npv(US_leg, discount_curve, True, effective_date)\n",
    "print(\"Net Present Value of leg1:\", net_present_value_leg1)\n",
    "print(\"Net Present Value of leg2:\", net_present_value_leg2)"
   ]
  },
  {
   "cell_type": "code",
   "execution_count": 25,
   "metadata": {},
   "outputs": [
    {
     "name": "stdout",
     "output_type": "stream",
     "text": [
      "NPV: 10922.773455\n",
      "Fixed Leg1 NPV: -39750.435919\n",
      "Fixed Leg2 NPV: 50673.209373\n"
     ]
    }
   ],
   "source": [
    "swap = ql.Swap(eur_leg, US_leg)\n",
    "# Set up the pricing engine\n",
    "engine = DiscountingSwapEngine(discount_curve)\n",
    "swap.setPricingEngine(engine)\n",
    "\n",
    "# Get the results\n",
    "npv = swap.NPV()\n",
    "fixed_leg1_npv = swap.legNPV(0)\n",
    "fixed_leg2_npv = swap.legNPV(1)\n",
    "\n",
    "# Display the results\n",
    "print(\"NPV: {:.6f}\".format(npv))\n",
    "print(\"Fixed Leg1 NPV: {:.6f}\".format(fixed_leg1_npv))\n",
    "print(\"Fixed Leg2 NPV: {:.6f}\".format(fixed_leg2_npv))"
   ]
  },
  {
   "cell_type": "code",
   "execution_count": 41,
   "metadata": {},
   "outputs": [
    {
     "name": "stdout",
     "output_type": "stream",
     "text": [
      "DV01 result of leg1 is 2.2982750479204697\n",
      "DV01 result of leg2 is 2.9298036614818557\n"
     ]
    }
   ],
   "source": [
    "# Calculate the DV01 risk\n",
    "shift = 0.0001  # 1 basis point shift\n",
    "parallel_curve_plus1 = ZeroSpreadedTermStructure(discount_curve, QuoteHandle(SimpleQuote(shift)))\n",
    "parallel_curve_minus1 = ZeroSpreadedTermStructure(discount_curve, QuoteHandle(SimpleQuote(-shift)))\n",
    "\n",
    "shifted_curve_plus1 = YieldTermStructureHandle(parallel_curve_plus1)\n",
    "shifted_curve_minus1 = YieldTermStructureHandle(parallel_curve_minus1)\n",
    "\n",
    "# Recalculate NPV with the shifted curve\n",
    "net_present_value_leg1_plus1 = ql.CashFlows.npv(eur_leg, shifted_curve_plus1, True, effective_date)\n",
    "net_present_value_leg1_minus1 = ql.CashFlows.npv(eur_leg, shifted_curve_minus1, True, effective_date)\n",
    "dv01_leg1 = (net_present_value_leg1_minus1 - net_present_value_leg1_plus1) / 2.0\n",
    "net_present_value_leg2_plus1 = ql.CashFlows.npv(US_leg, shifted_curve_plus1, True, effective_date)\n",
    "net_present_value_leg2_minus1 = ql.CashFlows.npv(US_leg, shifted_curve_minus1, True, effective_date)\n",
    "dv01_leg2 = (net_present_value_leg2_minus1 - net_present_value_leg2_plus1) / 2.0\n",
    "print(f'DV01 result of leg1 is {dv01_leg1}')\n",
    "print(f'DV01 result of leg2 is {dv01_leg2}')"
   ]
  }
 ],
 "metadata": {
  "kernelspec": {
   "display_name": "qlib",
   "language": "python",
   "name": "python3"
  },
  "language_info": {
   "codemirror_mode": {
    "name": "ipython",
    "version": 3
   },
   "file_extension": ".py",
   "mimetype": "text/x-python",
   "name": "python",
   "nbconvert_exporter": "python",
   "pygments_lexer": "ipython3",
   "version": "3.10.13"
  }
 },
 "nbformat": 4,
 "nbformat_minor": 2
}
