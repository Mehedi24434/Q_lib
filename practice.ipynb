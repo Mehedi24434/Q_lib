{
 "cells": [
  {
   "cell_type": "markdown",
   "metadata": {},
   "source": [
    "### importing liabrary"
   ]
  },
  {
   "cell_type": "markdown",
   "metadata": {},
   "source": [
    "Date Class"
   ]
  },
  {
   "cell_type": "code",
   "execution_count": 1,
   "metadata": {},
   "outputs": [],
   "source": [
    "import QuantLib as ql\n",
    "import pandas as pd"
   ]
  },
  {
   "cell_type": "code",
   "execution_count": 6,
   "metadata": {},
   "outputs": [
    {
     "name": "stdout",
     "output_type": "stream",
     "text": [
      "February 29th, 2024\n",
      "29-2-2024\n"
     ]
    }
   ],
   "source": [
    "date = ql.Date(29, 2, 2024)\n",
    "print(date)\n",
    "print(\"%d-%d-%d\" %(date.dayOfMonth(),date.month(),\n",
    "date.year()))"
   ]
  },
  {
   "cell_type": "code",
   "execution_count": 10,
   "metadata": {},
   "outputs": [
    {
     "data": {
      "text/plain": [
       "True"
      ]
     },
     "execution_count": 10,
     "metadata": {},
     "output_type": "execute_result"
    }
   ],
   "source": [
    "date.weekday() == ql.Thursday"
   ]
  },
  {
   "cell_type": "code",
   "execution_count": 12,
   "metadata": {},
   "outputs": [
    {
     "data": {
      "text/plain": [
       "QuantLib.QuantLib.Date"
      ]
     },
     "execution_count": 12,
     "metadata": {},
     "output_type": "execute_result"
    }
   ],
   "source": [
    "type(date)"
   ]
  },
  {
   "cell_type": "code",
   "execution_count": 17,
   "metadata": {},
   "outputs": [
    {
     "name": "stdout",
     "output_type": "stream",
     "text": [
      "Subtract a day : February 28th, 2024\n",
      "Add a month: March 29th, 2024\n"
     ]
    }
   ],
   "source": [
    "print(\"Subtract a day : {0}\".format(date - 1))\n",
    "print(\"Add a month: {0}\".format(date + ql.Period(1, ql.Months)))"
   ]
  },
  {
   "cell_type": "markdown",
   "metadata": {},
   "source": [
    "Calendar "
   ]
  },
  {
   "cell_type": "code",
   "execution_count": 18,
   "metadata": {},
   "outputs": [
    {
     "name": "stdout",
     "output_type": "stream",
     "text": [
      "Add 60 days: May 30th, 2015\n",
      "Add 60 business days in US: June 24th, 2015\n",
      "Add 60 business days in Italy: June 26th, 2015\n"
     ]
    }
   ],
   "source": [
    "date = ql.Date(31, 3, 2015)\n",
    "us_calendar = ql.UnitedStates(ql.UnitedStates.GovernmentBond)\n",
    "italy_calendar = ql.Italy()\n",
    "period = ql.Period(60, ql.Days)\n",
    "raw_date = date + period\n",
    "us_date = us_calendar.advance(date, period)\n",
    "italy_date = italy_calendar.advance(date, period)\n",
    "print(\"Add 60 days: {0}\".format(raw_date))\n",
    "print(\"Add 60 business days in US: {0}\".format(us_date))\n",
    "print(\"Add 60 business days in Italy: {0}\".format(italy_date))"
   ]
  }
 ],
 "metadata": {
  "kernelspec": {
   "display_name": "qlib",
   "language": "python",
   "name": "python3"
  },
  "language_info": {
   "codemirror_mode": {
    "name": "ipython",
    "version": 3
   },
   "file_extension": ".py",
   "mimetype": "text/x-python",
   "name": "python",
   "nbconvert_exporter": "python",
   "pygments_lexer": "ipython3",
   "version": "3.10.13"
  }
 },
 "nbformat": 4,
 "nbformat_minor": 2
}
